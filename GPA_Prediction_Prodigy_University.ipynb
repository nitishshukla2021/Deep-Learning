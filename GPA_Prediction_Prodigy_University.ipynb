{
  "cells": [
    {
      "cell_type": "code",
      "execution_count": 1,
      "id": "a8d3d9e4",
      "metadata": {
        "id": "a8d3d9e4"
      },
      "outputs": [],
      "source": [
        "# GPA Prediction using ANN & Linear Regression for Assignment\n",
        "import pandas as pd\n",
        "import numpy as np\n",
        "import matplotlib.pyplot as plt\n",
        "from sklearn.model_selection import train_test_split\n",
        "from sklearn.preprocessing import StandardScaler\n",
        "from sklearn.linear_model import LinearRegression\n",
        "from tensorflow.keras.models import Sequential\n",
        "from tensorflow.keras.layers import Dense\n",
        "from tensorflow.keras.optimizers import SGD, Adam, RMSprop, Adagrad\n",
        "import tensorflow as tf\n",
        "import warnings\n",
        "warnings.filterwarnings(\"ignore\")\n",
        "tf.config.run_functions_eagerly(True)"
      ]
    },
    {
      "cell_type": "code",
      "execution_count": 2,
      "id": "963f5624",
      "metadata": {
        "id": "963f5624"
      },
      "outputs": [],
      "source": [
        "# 1. read csv\n",
        "df = pd.read_csv('/content/Prodigy University Dataset.csv')"
      ]
    },
    {
      "cell_type": "code",
      "execution_count": 3,
      "id": "da1031f0",
      "metadata": {
        "id": "da1031f0"
      },
      "outputs": [],
      "source": [
        "# 2. Feature-Label Split\n",
        "X = df[['sat_sum', 'hs_gpa']]\n",
        "y = df['fy_gpa']"
      ]
    },
    {
      "cell_type": "code",
      "execution_count": 4,
      "id": "b55afc5c",
      "metadata": {
        "id": "b55afc5c"
      },
      "outputs": [],
      "source": [
        "# 3. Train-Test Split\n",
        "X_train, X_test, y_train, y_test = train_test_split(X, y, test_size=0.2, random_state=42)"
      ]
    },
    {
      "cell_type": "code",
      "execution_count": 5,
      "id": "953a84ea",
      "metadata": {
        "id": "953a84ea"
      },
      "outputs": [],
      "source": [
        "# 4. Feature Scaling\n",
        "scaler = StandardScaler()\n",
        "X_train_scaled = scaler.fit_transform(X_train)\n",
        "X_test_scaled = scaler.transform(X_test)"
      ]
    },
    {
      "cell_type": "code",
      "execution_count": 6,
      "id": "94874e39",
      "metadata": {
        "colab": {
          "base_uri": "https://localhost:8080/"
        },
        "id": "94874e39",
        "outputId": "249f539c-7958-4586-a342-77c8ffede103"
      },
      "outputs": [
        {
          "output_type": "stream",
          "name": "stdout",
          "text": [
            "\n",
            " Linear Regression MAE: 0.4856\n"
          ]
        }
      ],
      "source": [
        "# 5. Linear Regression Model\n",
        "lr = LinearRegression()\n",
        "lr.fit(X_train_scaled, y_train)\n",
        "lr_pred = lr.predict(X_test_scaled)\n",
        "lr_mae = np.mean(np.abs(lr_pred - y_test))\n",
        "print(f\"\\n Linear Regression MAE: {lr_mae:.4f}\")\n"
      ]
    },
    {
      "cell_type": "code",
      "execution_count": 7,
      "id": "c452f9a2",
      "metadata": {
        "id": "c452f9a2"
      },
      "outputs": [],
      "source": [
        "# 6. ANN Model Function\n",
        "def build_model(optimizer):\n",
        "    model = Sequential()\n",
        "    model.add(Dense(10, input_dim=2, activation='relu'))\n",
        "    model.add(Dense(1))\n",
        "    model.compile(optimizer=optimizer, loss='mse', metrics=['mae'])\n",
        "    return model"
      ]
    },
    {
      "cell_type": "code",
      "execution_count": 8,
      "id": "3970ce9b",
      "metadata": {
        "id": "3970ce9b"
      },
      "outputs": [],
      "source": [
        "# 7. Optimizers as functions (no reuse)\n",
        "optimizers = {\n",
        "    \"SGD\": lambda: SGD(),\n",
        "    \"SGD with Momentum\": lambda: SGD(momentum=0.9),\n",
        "    \"Adam\": lambda: Adam(),\n",
        "    \"RMSprop\": lambda: RMSprop(),\n",
        "    \"Adagrad\": lambda: Adagrad()\n",
        "}\n"
      ]
    },
    {
      "cell_type": "code",
      "execution_count": 9,
      "id": "a7740061",
      "metadata": {
        "id": "a7740061"
      },
      "outputs": [],
      "source": [
        "# 8. GD Types (by batch size)\n",
        "gd_types = {\n",
        "    \"Batch GD\": len(X_train),  # Full batch\n",
        "    \"Stochastic GD\": 1,        # One sample at a time\n",
        "    \"Mini-batch GD\": 4         # Small batch\n",
        "}\n"
      ]
    },
    {
      "cell_type": "code",
      "execution_count": null,
      "id": "8ddc99a0",
      "metadata": {
        "colab": {
          "background_save": true,
          "base_uri": "https://localhost:8080/"
        },
        "id": "8ddc99a0",
        "outputId": "3460efe4-dfe0-4c2d-9942-62e98515de6c"
      },
      "outputs": [
        {
          "name": "stdout",
          "output_type": "stream",
          "text": [
            "\n",
            "Training | GD: Batch GD | Optimizer: SGD\n",
            "\n",
            "Training | GD: Batch GD | Optimizer: SGD with Momentum\n",
            "\n",
            "Training | GD: Batch GD | Optimizer: Adam\n",
            "\n",
            "Training | GD: Batch GD | Optimizer: RMSprop\n",
            "\n",
            "Training | GD: Batch GD | Optimizer: Adagrad\n",
            "\n",
            "Training | GD: Stochastic GD | Optimizer: SGD\n",
            "\n",
            "Training | GD: Stochastic GD | Optimizer: SGD with Momentum\n",
            "\n",
            "Training | GD: Stochastic GD | Optimizer: Adam\n"
          ]
        }
      ],
      "source": [
        "# 9. Train and Collect Results\n",
        "results = []\n",
        "\n",
        "for gd_name, batch_size in gd_types.items():\n",
        "    for opt_name, opt_func in optimizers.items():\n",
        "        print(f\"\\nTraining | GD: {gd_name} | Optimizer: {opt_name}\")\n",
        "        optimizer_instance = opt_func()\n",
        "        model = build_model(optimizer_instance)\n",
        "        history = model.fit(X_train_scaled, y_train, epochs=100, batch_size=batch_size,\n",
        "                            verbose=0, validation_data=(X_test_scaled, y_test))\n",
        "        loss, mae = model.evaluate(X_test_scaled, y_test, verbose=0)\n",
        "        results.append((gd_name, opt_name, mae))\n"
      ]
    },
    {
      "cell_type": "code",
      "execution_count": null,
      "id": "5b520d83",
      "metadata": {
        "id": "5b520d83"
      },
      "outputs": [],
      "source": [
        "# 10. Results DataFrame\n",
        "results_df = pd.DataFrame(results, columns=[\"GD_Type\", \"Optimizer\", \"MAE\"])\n",
        "print(\"\\nANN MAE Results:\")\n",
        "print(results_df)\n"
      ]
    },
    {
      "cell_type": "code",
      "execution_count": null,
      "id": "57c5528f",
      "metadata": {
        "id": "57c5528f"
      },
      "outputs": [],
      "source": [
        "# 11. Compare with Linear Regression\n",
        "plt.figure(figsize=(12, 6))\n",
        "for gd in results_df['GD_Type'].unique():\n",
        "    subset = results_df[results_df['GD_Type'] == gd]\n",
        "    plt.plot(subset['Optimizer'], subset['MAE'], marker='o', label=gd)\n",
        "\n",
        "plt.axhline(lr_mae, color='red', linestyle='--', label=f\"Linear Regression MAE: {lr_mae:.4f}\")\n",
        "plt.title(\"📈 MAE Comparison: ANN GD & Optimizers vs Linear Regression\")\n",
        "plt.xlabel(\"Optimizer\")\n",
        "plt.ylabel(\"MAE (Lower is Better)\")\n",
        "plt.xticks(rotation=45)\n",
        "plt.legend()\n",
        "plt.tight_layout()\n",
        "plt.grid(True)\n",
        "plt.show()\n"
      ]
    },
    {
      "cell_type": "code",
      "execution_count": null,
      "id": "56e0d84a",
      "metadata": {
        "id": "56e0d84a"
      },
      "outputs": [],
      "source": []
    }
  ],
  "metadata": {
    "colab": {
      "provenance": []
    },
    "kernelspec": {
      "display_name": "Python 3 (ipykernel)",
      "language": "python",
      "name": "python3"
    },
    "language_info": {
      "codemirror_mode": {
        "name": "ipython",
        "version": 3
      },
      "file_extension": ".py",
      "mimetype": "text/x-python",
      "name": "python",
      "nbconvert_exporter": "python",
      "pygments_lexer": "ipython3",
      "version": "3.11.7"
    }
  },
  "nbformat": 4,
  "nbformat_minor": 5
}